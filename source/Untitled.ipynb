{
 "cells": [
  {
   "cell_type": "code",
   "execution_count": 2,
   "id": "4d3b15a5-00ac-46f0-beec-641dc8590af1",
   "metadata": {},
   "outputs": [
    {
     "name": "stdout",
     "output_type": "stream",
     "text": [
      "📖 Detected 17 chapters in voyagers_1_chaptered\n",
      "✅ voyagers_1_chaptered → 17 chapters created in /home/selene/Documents/jlab/Sphinx/voyagers/source/voyagers_1_chaptered\n",
      "📖 Detected 5 chapters in voyagers_2_chaptered\n",
      "✅ voyagers_2_chaptered → 5 chapters created in /home/selene/Documents/jlab/Sphinx/voyagers/source/voyagers_2_chaptered\n"
     ]
    }
   ],
   "source": [
    "from pathlib import Path\n",
    "import re\n",
    "\n",
    "# Define paths again\n",
    "base_path = Path.home() / \"Documents/jlab/Sphinx/voyagers/source\"\n",
    "input_files = {\n",
    "    \"voyagers_1_chaptered\": base_path / \"Voyagers_1_chaptered.md\",\n",
    "    \"voyagers_2_chaptered\": base_path / \"Voyagers_2_chaptered.md\"\n",
    "}\n",
    "\n",
    "# Broader chapter detection pattern (accepts numbers or words)\n",
    "chapter_pattern = r'(?=^.*CHAPTER\\s+(?:\\d+|[A-Z]+)[^\\n]*$)'\n",
    "\n",
    "# Perform the split\n",
    "for label, file_path in input_files.items():\n",
    "    output_dir = base_path / label\n",
    "    output_dir.mkdir(parents=True, exist_ok=True)\n",
    "\n",
    "    text = file_path.read_text(encoding='utf-8')\n",
    "    chapters = re.split(chapter_pattern, text, flags=re.MULTILINE | re.IGNORECASE)\n",
    "    matches = re.findall(chapter_pattern, text, flags=re.MULTILINE | re.IGNORECASE)\n",
    "\n",
    "    if matches:\n",
    "        print(f\"📖 Detected {len(matches)} chapters in {label}\")\n",
    "    else:\n",
    "        print(f\"❌ No chapter headers matched in {label} — check formatting\")\n",
    "\n",
    "    for idx, (header, body) in enumerate(zip(matches, chapters[1:]), 1):\n",
    "        out_path = output_dir / f\"chapter_{idx:02}.md\"\n",
    "        out_path.write_text(header + body.strip(), encoding='utf-8')\n",
    "\n",
    "    print(f\"✅ {label} → {len(matches)} chapters created in {output_dir}\")\n"
   ]
  },
  {
   "cell_type": "code",
   "execution_count": 6,
   "id": "72f46de6-694c-4330-a58b-c9c3cd7fad59",
   "metadata": {},
   "outputs": [
    {
     "name": "stdout",
     "output_type": "stream",
     "text": [
      "✅ Chapter markers inserted and saved to: /home/selene/Documents/jlab/Sphinx/voyagers/source/Voyagers_2_chaptered.md\n"
     ]
    }
   ],
   "source": [
    "from pathlib import Path\n",
    "import re\n",
    "\n",
    "# Load the markdown file\n",
    "voyagers_2_path = Path.home() / \"Documents/jlab/Sphinx/voyagers/source/Voyagers_2_chaptered.md\"\n",
    "text = voyagers_2_path.read_text()\n",
    "\n",
    "# Automatically insert markdown headers before any matching 'Chapter X:' line\n",
    "pattern = r'(Chapter\\s+\\d+\\s*:.*?)\\n'\n",
    "replacement = r'\\n\\n##### \\1\\n'\n",
    "\n",
    "# Apply regex and save\n",
    "updated_text = re.sub(pattern, replacement, text)\n",
    "\n",
    "# Save the updated version (optional backup step)\n",
    "output_path = voyagers_1_path.with_name(\"Voyagers_2_chaptered.md\")\n",
    "output_path.write_text(updated_text)\n",
    "\n",
    "print(f\"✅ Chapter markers inserted and saved to: {output_path}\")\n"
   ]
  },
  {
   "cell_type": "code",
   "execution_count": 25,
   "id": "4434baa6-4bea-4e75-b717-404458da2e85",
   "metadata": {},
   "outputs": [
    {
     "ename": "SyntaxError",
     "evalue": "unmatched ')' (367633235.py, line 36)",
     "output_type": "error",
     "traceback": [
      "\u001b[0;36m  Cell \u001b[0;32mIn[25], line 36\u001b[0;36m\u001b[0m\n\u001b[0;31m    markdown_path, \"voyagers_2_raw.txt\", encoding=\"utf-8\") as f:\u001b[0m\n\u001b[0m                                                         ^\u001b[0m\n\u001b[0;31mSyntaxError\u001b[0m\u001b[0;31m:\u001b[0m unmatched ')'\n"
     ]
    }
   ],
   "source": [
    "import re\n",
    "\n",
    "# Load raw text\n",
    "with open\n",
    "import re\n",
    "\n",
    "# Load raw text\n",
    "with open(raw_text_path, \"r\", encoding=\"utf-8\") as f:\n",
    "    text = f.read()\n",
    "\n",
    "# Prepare regex for chapters\n",
    "chapter_pattern = re.compile(\n",
    "    r\"\\b(?:Chapter\\s*)?(\\d{1,2})[:.\\-]?\\s+(The\\s+.*?)\\n\", re.IGNORECASE)\n",
    "\n",
    "# Find all chapter titles\n",
    "chapter_matches = list(chapter_pattern.finditer(text))\n",
    "\n",
    "# Build chaptered markdown\n",
    "md_sections = []\n",
    "for i, match in enumerate(chapter_matches):\n",
    "    chap_num, chap_title = match.groups()\n",
    "    chap_num = int(chap_num)\n",
    "    start = match.end()\n",
    "\n",
    "    # Determine end of chapter\n",
    "    end = chapter_matches[i + 1].start() if i + 1 < len(chapter_matches) else len(text)\n",
    "    chapter_text = text[start:end].strip()\n",
    "\n",
    "    # Append formatted markdown section\n",
    "    md_sections.append(f\"# Chapter {chap_num}: {chap_title.strip()}\\n\\n{chapter_text}\")\n",
    "\n",
    "# Combine all chapters\n",
    "final_markdown = \"\\n\\n\".join(md_sections)\n",
    "\n",
    "# Save to file\n",
    "markdown_path, \"voyagers_2_raw.txt\", encoding=\"utf-8\") as f:\n",
    "    text = f.read()\n"
   ]
  },
  {
   "cell_type": "code",
   "execution_count": null,
   "id": "fdbf6c94-b9f0-4db5-a1c9-9da4a798fe25",
   "metadata": {},
   "outputs": [],
   "source": []
  }
 ],
 "metadata": {
  "kernelspec": {
   "display_name": "Python 3 (ipykernel)",
   "language": "python",
   "name": "python3"
  },
  "language_info": {
   "codemirror_mode": {
    "name": "ipython",
    "version": 3
   },
   "file_extension": ".py",
   "mimetype": "text/x-python",
   "name": "python",
   "nbconvert_exporter": "python",
   "pygments_lexer": "ipython3",
   "version": "3.12.5"
  },
  "widgets": {
   "application/vnd.jupyter.widget-state+json": {
    "state": {},
    "version_major": 2,
    "version_minor": 0
   }
  }
 },
 "nbformat": 4,
 "nbformat_minor": 5
}
